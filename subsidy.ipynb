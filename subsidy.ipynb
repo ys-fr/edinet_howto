{
 "cells": [
  {
   "cell_type": "code",
   "execution_count": 60,
   "metadata": {},
   "outputs": [],
   "source": [
    "import requests\n",
    "import glob\n",
    "import os\n",
    "from pathlib import Path\n",
    "import edinet\n",
    "from edinet.xbrl_file import XBRLDir\n",
    "import pandas as pd"
   ]
  },
  {
   "cell_type": "code",
   "execution_count": 124,
   "metadata": {},
   "outputs": [],
   "source": [
    "dataname = pd.read_excel(\"./1f_AccountList.xls\",sheet_name='一般商工業',header=1)\n",
    "a = dataname[[\"標準ラベル（英語）\",\"名前空間プレフィックス\",\"要素名\",\"科目分類\"]].values\n",
    "use = []\n",
    "for i in a:\n",
    "    try:\n",
    "        use.append([i[0],i[1]+\":\"+i[2],i[3]].copy())\n",
    "        pass\n",
    "    except:\n",
    "        pass\n",
    "    pass"
   ]
  },
  {
   "cell_type": "code",
   "execution_count": 128,
   "metadata": {},
   "outputs": [],
   "source": [
    "#Download data\n",
    "DOC_ID = \"S100N4TI\"\n",
    "\n",
    "#xbrl_path = edinet.api.document.get_xbrl(\n",
    "#    DOC_ID, save_dir=\"./\",\n",
    "#    expand_level=\"dir\")\n",
    "xbrl_dir = XBRLDir(\"./S100N4TI\")"
   ]
  },
  {
   "cell_type": "code",
   "execution_count": 134,
   "metadata": {},
   "outputs": [
    {
     "data": {
      "text/plain": [
       "'23000000'"
      ]
     },
     "execution_count": 134,
     "metadata": {},
     "output_type": "execute_result"
    }
   ],
   "source": [
    "xbrl_dir.xbrl.find(\"jpcrp_cor:AuditFeesConsolidatedSubsidiaries\").text"
   ]
  },
  {
   "cell_type": "code",
   "execution_count": 137,
   "metadata": {},
   "outputs": [
    {
     "ename": "TypeError",
     "evalue": "read_csv() got an unexpected keyword argument 'row'",
     "output_type": "error",
     "traceback": [
      "\u001b[0;31m---------------------------------------------------------------------------\u001b[0m",
      "\u001b[0;31mTypeError\u001b[0m                                 Traceback (most recent call last)",
      "\u001b[0;32m/tmp/ipykernel_889694/2820860376.py\u001b[0m in \u001b[0;36m<module>\u001b[0;34m\u001b[0m\n\u001b[0;32m----> 1\u001b[0;31m \u001b[0mpd\u001b[0m\u001b[0;34m.\u001b[0m\u001b[0mread_csv\u001b[0m\u001b[0;34m(\u001b[0m\u001b[0;34m\"/mnt/yuki/OpenDocs/EDINET/S100N4TI/XBRL/PublicDoc/jpcrp030000-asr-001_E33000-000_2021-09-30_01_2021-12-24.xbrl\"\u001b[0m\u001b[0;34m,\u001b[0m\u001b[0mrow\u001b[0m\u001b[0;34m=\u001b[0m\u001b[0;36m1\u001b[0m\u001b[0;34m)\u001b[0m\u001b[0;34m\u001b[0m\u001b[0;34m\u001b[0m\u001b[0m\n\u001b[0m",
      "\u001b[0;32m~/anaconda3/lib/python3.7/site-packages/pandas/util/_decorators.py\u001b[0m in \u001b[0;36mwrapper\u001b[0;34m(*args, **kwargs)\u001b[0m\n\u001b[1;32m    309\u001b[0m                     \u001b[0mstacklevel\u001b[0m\u001b[0;34m=\u001b[0m\u001b[0mstacklevel\u001b[0m\u001b[0;34m,\u001b[0m\u001b[0;34m\u001b[0m\u001b[0;34m\u001b[0m\u001b[0m\n\u001b[1;32m    310\u001b[0m                 )\n\u001b[0;32m--> 311\u001b[0;31m             \u001b[0;32mreturn\u001b[0m \u001b[0mfunc\u001b[0m\u001b[0;34m(\u001b[0m\u001b[0;34m*\u001b[0m\u001b[0margs\u001b[0m\u001b[0;34m,\u001b[0m \u001b[0;34m**\u001b[0m\u001b[0mkwargs\u001b[0m\u001b[0;34m)\u001b[0m\u001b[0;34m\u001b[0m\u001b[0;34m\u001b[0m\u001b[0m\n\u001b[0m\u001b[1;32m    312\u001b[0m \u001b[0;34m\u001b[0m\u001b[0m\n\u001b[1;32m    313\u001b[0m         \u001b[0;32mreturn\u001b[0m \u001b[0mwrapper\u001b[0m\u001b[0;34m\u001b[0m\u001b[0;34m\u001b[0m\u001b[0m\n",
      "\u001b[0;31mTypeError\u001b[0m: read_csv() got an unexpected keyword argument 'row'"
     ]
    }
   ],
   "source": [
    "data = []\n",
    "with open(\"myfile.csv\", \"r\") as f:\n",
    "  rows = f.readlines()\n",
    "  row = rows.next() #ヘッダを飛ばしたい場合\n",
    "  for row_str in rows:\n",
    "    row = row_str.split(\",\") #文字列中の , でも分割される\n",
    "  data.append(row)"
   ]
  },
  {
   "cell_type": "code",
   "execution_count": 120,
   "metadata": {},
   "outputs": [
    {
     "data": {
      "text/plain": [
       "0     jpcrp040300-q2r_E33000-000:NotesFairValueMeasu...\n",
       "1                    jpcrp_cor:AddressMajorShareholders\n",
       "2             jpcrp_cor:BusinessResultsOfGroupTextBlock\n",
       "3                      jpcrp_cor:BusinessRisksTextBlock\n",
       "4     jpcrp_cor:ChangesInNumberOfIssuedSharesStatedC...\n",
       "5                        jpcrp_cor:CompanyNameCoverPage\n",
       "6               jpcrp_cor:CompanyNameInEnglishCoverPage\n",
       "7      jpcrp_cor:CriticalContractsForOperationTextBlock\n",
       "8              jpcrp_cor:DescriptionOfBusinessTextBlock\n",
       "9     jpcrp_cor:DetailsOfEmployeeShareOptionProgramT...\n",
       "10    jpcrp_cor:ExercisesEtcOfMovingStrikeConvertibl...\n",
       "11    jpcrp_cor:InformationAboutCompanyWhichProvides...\n",
       "12          jpcrp_cor:InformationAboutOfficersTextBlock\n",
       "13    jpcrp_cor:IssuedSharesTotalNumberOfSharesEtcTe...\n",
       "14          jpcrp_cor:IssuedSharesVotingRightsTextBlock\n",
       "15                 jpcrp_cor:MajorShareholdersTextBlock\n",
       "16    jpcrp_cor:ManagementAnalysisOfFinancialPositio...\n",
       "17                      jpcrp_cor:NameMajorShareholders\n",
       "18    jpcrp_cor:NameOfFinancialInstrumentsExchangeOn...\n",
       "19    jpcrp_cor:OtherInformationConsolidatedFinancia...\n",
       "20    jpcrp_cor:OtherInformationOnShareAcquisitionRi...\n",
       "21    jpcrp_cor:PlaceForPublicInspectionCoverPageTex...\n",
       "22               jpcrp_cor:TotalNumberOfSharesTextBlock\n",
       "23                 jpcrp_cor:TreasurySharesEtcTextBlock\n",
       "24    jpigp_cor:CondensedQuarterPeriodConsolidatedSt...\n",
       "25    jpigp_cor:CondensedQuarterPeriodConsolidatedSt...\n",
       "26    jpigp_cor:CondensedQuarterlyConsolidatedStatem...\n",
       "27    jpigp_cor:CondensedQuarterlyConsolidatedStatem...\n",
       "28    jpigp_cor:CondensedQuarterlyConsolidatedStatem...\n",
       "29    jpigp_cor:CondensedYearToQuarterEndConsolidate...\n",
       "30    jpigp_cor:CondensedYearToQuarterEndConsolidate...\n",
       "31    jpigp_cor:NotesBasisOfPreparationCondensedQuar...\n",
       "32    jpigp_cor:NotesBondsAndBorrowingsCondensedQuar...\n",
       "33    jpigp_cor:NotesDividendsCondensedQuarterlyCons...\n",
       "34    jpigp_cor:NotesEarningsPerShareCondensedQuarte...\n",
       "35    jpigp_cor:NotesFairValueOfFinancialInstruments...\n",
       "36    jpigp_cor:NotesImpairmentLossesCondensedQuarte...\n",
       "37    jpigp_cor:NotesOtherExpensesCondensedQuarterly...\n",
       "38    jpigp_cor:NotesOtherIncomeCondensedQuarterlyCo...\n",
       "39    jpigp_cor:NotesPropertyPlantAndEquipmentConden...\n",
       "40    jpigp_cor:NotesReportingEntityCondensedQuarter...\n",
       "41    jpigp_cor:NotesRevenueCondensedQuarterlyConsol...\n",
       "42    jpigp_cor:NotesSegmentInformationCondensedQuar...\n",
       "43    jpigp_cor:NotesSellingGeneralAndAdministrative...\n",
       "44    jpigp_cor:NotesSignificantAccountingEstimatesA...\n",
       "45    jpigp_cor:NotesSignificantAccountingPoliciesCo...\n",
       "46    jpigp_cor:NotesSubsequentEventsCondensedQuarte...\n",
       "47                                        xbrli:context\n",
       "48                                         xbrli:divide\n",
       "49                                         xbrli:entity\n",
       "50                                         xbrli:period\n",
       "51                                       xbrli:scenario\n",
       "52                                           xbrli:unit\n",
       "53                                xbrli:unitDenominator\n",
       "54                                  xbrli:unitNumerator\n",
       "55                                           xbrli:xbrl\n",
       "dtype: object"
      ]
     },
     "execution_count": 120,
     "metadata": {},
     "output_type": "execute_result"
    }
   ],
   "source": [
    "available_tags = pd.Series(available_tags)\n",
    "available_tags"
   ]
  },
  {
   "cell_type": "code",
   "execution_count": 121,
   "metadata": {},
   "outputs": [
    {
     "data": {
      "text/plain": [
       "Series([], dtype: object)"
      ]
     },
     "execution_count": 121,
     "metadata": {},
     "output_type": "execute_result"
    }
   ],
   "source": [
    "available_tags[available_tags.apply(lambda x :\"Asset\" in x)]"
   ]
  },
  {
   "cell_type": "code",
   "execution_count": 145,
   "metadata": {},
   "outputs": [],
   "source": [
    "data = pd.read_csv(\"/mnt/yuki/OpenDocs/EDINET/S100M509/XBRL/PublicDoc/jpcrp040300-q3r-001_E33000-000_2021-06-30_01_2021-08-11.xbrl\",sep=\"\\n\",header=None)"
   ]
  },
  {
   "cell_type": "code",
   "execution_count": 163,
   "metadata": {},
   "outputs": [
    {
     "data": {
      "text/plain": [
       "'  <jpigp_cor:ForfeitureOfShareAcquisitionRightsSSIFRS contextRef=\"Prior1YTDDuration_RetainedEarningsIFRSMember\" unitRef=\"JPY\" decimals=\"-6\">6000000</jpigp_cor:ForfeitureOfShareAcquisitionRightsSSIFRS>'"
      ]
     },
     "execution_count": 163,
     "metadata": {},
     "output_type": "execute_result"
    }
   ],
   "source": [
    "data.iloc[1000][0].strip(\"<\")"
   ]
  },
  {
   "cell_type": "code",
   "execution_count": 166,
   "metadata": {},
   "outputs": [
    {
     "data": {
      "text/plain": [
       "['',\n",
       " '',\n",
       " '<jpigp_cor:ForfeitureOfShareAcquisitionRightsSSIFRS',\n",
       " 'contextRef=\"Prior1YTDDuration_RetainedEarningsIFRSMember\"',\n",
       " 'unitRef=\"JPY\"',\n",
       " 'decimals=\"-6\">6000000</jpigp_cor:ForfeitureOfShareAcquisitionRightsSSIFRS>']"
      ]
     },
     "execution_count": 166,
     "metadata": {},
     "output_type": "execute_result"
    }
   ],
   "source": [
    "data.iloc[1000][0].strip(\"<\").split(\" \")"
   ]
  },
  {
   "cell_type": "code",
   "execution_count": 178,
   "metadata": {},
   "outputs": [],
   "source": [
    "Tags = []\n",
    "for i in data[0].values:\n",
    "    i = i.split(\" \")\n",
    "    n = 0\n",
    "    dic = {}\n",
    "    N = len(i)\n",
    "    for j in i:\n",
    "        if len(j)==0:\n",
    "            continue\n",
    "        j = j.strip(\"<\")\n",
    "        if j[0]==\"j\":\n",
    "            Tags.append(j)\n",
    "        break\n",
    "    pass"
   ]
  },
  {
   "cell_type": "code",
   "execution_count": 181,
   "metadata": {},
   "outputs": [
    {
     "data": {
      "text/html": [
       "<div>\n",
       "<style scoped>\n",
       "    .dataframe tbody tr th:only-of-type {\n",
       "        vertical-align: middle;\n",
       "    }\n",
       "\n",
       "    .dataframe tbody tr th {\n",
       "        vertical-align: top;\n",
       "    }\n",
       "\n",
       "    .dataframe thead th {\n",
       "        text-align: right;\n",
       "    }\n",
       "</style>\n",
       "<table border=\"1\" class=\"dataframe\">\n",
       "  <thead>\n",
       "    <tr style=\"text-align: right;\">\n",
       "      <th></th>\n",
       "      <th>0</th>\n",
       "    </tr>\n",
       "  </thead>\n",
       "  <tbody>\n",
       "    <tr>\n",
       "      <th>0</th>\n",
       "      <td>jpdei_cor:NumberOfSubmissionDEI</td>\n",
       "    </tr>\n",
       "    <tr>\n",
       "      <th>1</th>\n",
       "      <td>jpcrp_cor:RevenueIFRSSummaryOfBusinessResults</td>\n",
       "    </tr>\n",
       "    <tr>\n",
       "      <th>2</th>\n",
       "      <td>jpcrp_cor:RevenueIFRSSummaryOfBusinessResults</td>\n",
       "    </tr>\n",
       "    <tr>\n",
       "      <th>3</th>\n",
       "      <td>jpcrp_cor:RevenueIFRSSummaryOfBusinessResults</td>\n",
       "    </tr>\n",
       "    <tr>\n",
       "      <th>4</th>\n",
       "      <td>jpcrp_cor:RevenueIFRSSummaryOfBusinessResults</td>\n",
       "    </tr>\n",
       "    <tr>\n",
       "      <th>...</th>\n",
       "      <td>...</td>\n",
       "    </tr>\n",
       "    <tr>\n",
       "      <th>571</th>\n",
       "      <td>jpigp_cor:NotesFairValueOfFinancialInstruments...</td>\n",
       "    </tr>\n",
       "    <tr>\n",
       "      <th>572</th>\n",
       "      <td>jpcrp040300-q3r_E33000-000:NotesFairValueMeasu...</td>\n",
       "    </tr>\n",
       "    <tr>\n",
       "      <th>573</th>\n",
       "      <td>jpigp_cor:NotesSubsequentEventsCondensedQuarte...</td>\n",
       "    </tr>\n",
       "    <tr>\n",
       "      <th>574</th>\n",
       "      <td>jpcrp_cor:OtherInformationConsolidatedFinancia...</td>\n",
       "    </tr>\n",
       "    <tr>\n",
       "      <th>575</th>\n",
       "      <td>jpcrp_cor:InformationAboutCompanyWhichProvides...</td>\n",
       "    </tr>\n",
       "  </tbody>\n",
       "</table>\n",
       "<p>576 rows × 1 columns</p>\n",
       "</div>"
      ],
      "text/plain": [
       "                                                     0\n",
       "0                      jpdei_cor:NumberOfSubmissionDEI\n",
       "1        jpcrp_cor:RevenueIFRSSummaryOfBusinessResults\n",
       "2        jpcrp_cor:RevenueIFRSSummaryOfBusinessResults\n",
       "3        jpcrp_cor:RevenueIFRSSummaryOfBusinessResults\n",
       "4        jpcrp_cor:RevenueIFRSSummaryOfBusinessResults\n",
       "..                                                 ...\n",
       "571  jpigp_cor:NotesFairValueOfFinancialInstruments...\n",
       "572  jpcrp040300-q3r_E33000-000:NotesFairValueMeasu...\n",
       "573  jpigp_cor:NotesSubsequentEventsCondensedQuarte...\n",
       "574  jpcrp_cor:OtherInformationConsolidatedFinancia...\n",
       "575  jpcrp_cor:InformationAboutCompanyWhichProvides...\n",
       "\n",
       "[576 rows x 1 columns]"
      ]
     },
     "execution_count": 181,
     "metadata": {},
     "output_type": "execute_result"
    }
   ],
   "source": [
    "pd.DataFrame(Tags)"
   ]
  },
  {
   "cell_type": "code",
   "execution_count": 207,
   "metadata": {},
   "outputs": [
    {
     "data": {
      "text/plain": [
       "'156402000000'"
      ]
     },
     "execution_count": 207,
     "metadata": {},
     "output_type": "execute_result"
    }
   ],
   "source": [
    "xbrl_dir.xbrl.find(\"jpcrp_cor:RevenueIFRSSummaryOfBusinessResults\").text"
   ]
  },
  {
   "cell_type": "code",
   "execution_count": 188,
   "metadata": {},
   "outputs": [
    {
     "data": {
      "text/plain": [
       "0                   財政状態計算書（IFRS） [タイトル項目]\n",
       "1                        財政状態計算書（IFRS） [表]\n",
       "2                     財政状態計算書（IFRS） [表示項目]\n",
       "3                        資産（IFRS） [タイトル項目]\n",
       "4                      流動資産（IFRS） [タイトル項目]\n",
       "                      ...                 \n",
       "943    金融収益及び金融費用の内訳のその他の要素（IFRS） [タイトル項目]\n",
       "944                      金融収益の内訳（IFRS） [表]\n",
       "945                   金融収益の内訳（IFRS） [表示項目]\n",
       "946                      金融費用の内訳（IFRS） [表]\n",
       "947                   金融費用の内訳（IFRS） [表示項目]\n",
       "Name: 冗長ラベル（日本語）, Length: 948, dtype: object"
      ]
     },
     "execution_count": 188,
     "metadata": {},
     "output_type": "execute_result"
    }
   ],
   "source": [
    "names = pd.read_excel(\"1g_IFRS_ElementList.xls\",sheet_name=\"詳細ツリー\",header=1)\n"
   ]
  },
  {
   "cell_type": "code",
   "execution_count": 192,
   "metadata": {},
   "outputs": [
    {
     "name": "stderr",
     "output_type": "stream",
     "text": [
      "/home/yuki/anaconda3/lib/python3.7/site-packages/ipykernel_launcher.py:2: SettingWithCopyWarning: \n",
      "A value is trying to be set on a copy of a slice from a DataFrame.\n",
      "Try using .loc[row_indexer,col_indexer] = value instead\n",
      "\n",
      "See the caveats in the documentation: https://pandas.pydata.org/pandas-docs/stable/user_guide/indexing.html#returning-a-view-versus-a-copy\n",
      "  \n"
     ]
    }
   ],
   "source": [
    "use = names[[\"冗長ラベル（日本語）\",\"標準ラベル（英語）\", \"冗長ラベル（英語）\",\"名前空間プレフィックス\",\"要素名\"]]\n",
    "use[\"tag\"] = use[\"名前空間プレフィックス\"]+use[\"要素名\"]"
   ]
  },
  {
   "cell_type": "code",
   "execution_count": 203,
   "metadata": {},
   "outputs": [
    {
     "name": "stderr",
     "output_type": "stream",
     "text": [
      "/home/yuki/anaconda3/lib/python3.7/site-packages/ipykernel_launcher.py:2: SettingWithCopyWarning: \n",
      "A value is trying to be set on a copy of a slice from a DataFrame.\n",
      "Try using .loc[row_indexer,col_indexer] = value instead\n",
      "\n",
      "See the caveats in the documentation: https://pandas.pydata.org/pandas-docs/stable/user_guide/indexing.html#returning-a-view-versus-a-copy\n",
      "  \n"
     ]
    }
   ],
   "source": [
    "use.dropna(axis=1)\n",
    "use[\"tag\"]=use[\"tag\"].astype(\"str\",)\n",
    "#"
   ]
  },
  {
   "cell_type": "code",
   "execution_count": 204,
   "metadata": {},
   "outputs": [
    {
     "data": {
      "text/html": [
       "<div>\n",
       "<style scoped>\n",
       "    .dataframe tbody tr th:only-of-type {\n",
       "        vertical-align: middle;\n",
       "    }\n",
       "\n",
       "    .dataframe tbody tr th {\n",
       "        vertical-align: top;\n",
       "    }\n",
       "\n",
       "    .dataframe thead th {\n",
       "        text-align: right;\n",
       "    }\n",
       "</style>\n",
       "<table border=\"1\" class=\"dataframe\">\n",
       "  <thead>\n",
       "    <tr style=\"text-align: right;\">\n",
       "      <th></th>\n",
       "      <th>冗長ラベル（日本語）</th>\n",
       "      <th>標準ラベル（英語）</th>\n",
       "      <th>冗長ラベル（英語）</th>\n",
       "      <th>名前空間プレフィックス</th>\n",
       "      <th>要素名</th>\n",
       "      <th>tag</th>\n",
       "    </tr>\n",
       "  </thead>\n",
       "  <tbody>\n",
       "    <tr>\n",
       "      <th>0</th>\n",
       "      <td>財政状態計算書（IFRS） [タイトル項目]</td>\n",
       "      <td>Statement of financial position</td>\n",
       "      <td>Statement of financial position (IFRS) [abstract]</td>\n",
       "      <td>jpigp_cor</td>\n",
       "      <td>StatementOfFinancialPositionIFRSAbstract</td>\n",
       "      <td>jpigp_corStatementOfFinancialPositionIFRSAbstract</td>\n",
       "    </tr>\n",
       "    <tr>\n",
       "      <th>1</th>\n",
       "      <td>財政状態計算書（IFRS） [表]</td>\n",
       "      <td>Statement of financial position</td>\n",
       "      <td>Statement of financial position (IFRS) [table]</td>\n",
       "      <td>jpigp_cor</td>\n",
       "      <td>StatementOfFinancialPositionIFRSTable</td>\n",
       "      <td>jpigp_corStatementOfFinancialPositionIFRSTable</td>\n",
       "    </tr>\n",
       "    <tr>\n",
       "      <th>2</th>\n",
       "      <td>財政状態計算書（IFRS） [表示項目]</td>\n",
       "      <td>Statement of financial position</td>\n",
       "      <td>Statement of financial position (IFRS) [line i...</td>\n",
       "      <td>jpigp_cor</td>\n",
       "      <td>StatementOfFinancialPositionIFRSLineItems</td>\n",
       "      <td>jpigp_corStatementOfFinancialPositionIFRSLineI...</td>\n",
       "    </tr>\n",
       "    <tr>\n",
       "      <th>3</th>\n",
       "      <td>資産（IFRS） [タイトル項目]</td>\n",
       "      <td>Assets</td>\n",
       "      <td>Assets (IFRS) [abstract]</td>\n",
       "      <td>jpigp_cor</td>\n",
       "      <td>AssetsIFRSAbstract</td>\n",
       "      <td>jpigp_corAssetsIFRSAbstract</td>\n",
       "    </tr>\n",
       "    <tr>\n",
       "      <th>4</th>\n",
       "      <td>流動資産（IFRS） [タイトル項目]</td>\n",
       "      <td>Current assets</td>\n",
       "      <td>Current assets (IFRS) [abstract]</td>\n",
       "      <td>jpigp_cor</td>\n",
       "      <td>CurrentAssetsIFRSAbstract</td>\n",
       "      <td>jpigp_corCurrentAssetsIFRSAbstract</td>\n",
       "    </tr>\n",
       "    <tr>\n",
       "      <th>...</th>\n",
       "      <td>...</td>\n",
       "      <td>...</td>\n",
       "      <td>...</td>\n",
       "      <td>...</td>\n",
       "      <td>...</td>\n",
       "      <td>...</td>\n",
       "    </tr>\n",
       "    <tr>\n",
       "      <th>943</th>\n",
       "      <td>金融収益及び金融費用の内訳のその他の要素（IFRS） [タイトル項目]</td>\n",
       "      <td>Other elements for components of finance incom...</td>\n",
       "      <td>Other elements for components of finance incom...</td>\n",
       "      <td>jpigp_cor</td>\n",
       "      <td>OtherElementsForComponentsOfFinanceIncomeAndFi...</td>\n",
       "      <td>jpigp_corOtherElementsForComponentsOfFinanceIn...</td>\n",
       "    </tr>\n",
       "    <tr>\n",
       "      <th>944</th>\n",
       "      <td>金融収益の内訳（IFRS） [表]</td>\n",
       "      <td>Components of finance income</td>\n",
       "      <td>Components of finance income (IFRS) [table]</td>\n",
       "      <td>jpigp_cor</td>\n",
       "      <td>ComponentsOfFinanceIncomeIFRSTable</td>\n",
       "      <td>jpigp_corComponentsOfFinanceIncomeIFRSTable</td>\n",
       "    </tr>\n",
       "    <tr>\n",
       "      <th>945</th>\n",
       "      <td>金融収益の内訳（IFRS） [表示項目]</td>\n",
       "      <td>Components of finance income</td>\n",
       "      <td>Components of finance income (IFRS) [line items]</td>\n",
       "      <td>jpigp_cor</td>\n",
       "      <td>ComponentsOfFinanceIncomeIFRSLineItems</td>\n",
       "      <td>jpigp_corComponentsOfFinanceIncomeIFRSLineItems</td>\n",
       "    </tr>\n",
       "    <tr>\n",
       "      <th>946</th>\n",
       "      <td>金融費用の内訳（IFRS） [表]</td>\n",
       "      <td>Components of finance costs</td>\n",
       "      <td>Components of finance costs (IFRS) [table]</td>\n",
       "      <td>jpigp_cor</td>\n",
       "      <td>ComponentsOfFinanceCostsIFRSTable</td>\n",
       "      <td>jpigp_corComponentsOfFinanceCostsIFRSTable</td>\n",
       "    </tr>\n",
       "    <tr>\n",
       "      <th>947</th>\n",
       "      <td>金融費用の内訳（IFRS） [表示項目]</td>\n",
       "      <td>Components of finance costs</td>\n",
       "      <td>Components of finance costs (IFRS) [line items]</td>\n",
       "      <td>jpigp_cor</td>\n",
       "      <td>ComponentsOfFinanceCostsIFRSLineItems</td>\n",
       "      <td>jpigp_corComponentsOfFinanceCostsIFRSLineItems</td>\n",
       "    </tr>\n",
       "  </tbody>\n",
       "</table>\n",
       "<p>885 rows × 6 columns</p>\n",
       "</div>"
      ],
      "text/plain": [
       "                              冗長ラベル（日本語）  \\\n",
       "0                 財政状態計算書（IFRS） [タイトル項目]   \n",
       "1                      財政状態計算書（IFRS） [表]   \n",
       "2                   財政状態計算書（IFRS） [表示項目]   \n",
       "3                      資産（IFRS） [タイトル項目]   \n",
       "4                    流動資産（IFRS） [タイトル項目]   \n",
       "..                                   ...   \n",
       "943  金融収益及び金融費用の内訳のその他の要素（IFRS） [タイトル項目]   \n",
       "944                    金融収益の内訳（IFRS） [表]   \n",
       "945                 金融収益の内訳（IFRS） [表示項目]   \n",
       "946                    金融費用の内訳（IFRS） [表]   \n",
       "947                 金融費用の内訳（IFRS） [表示項目]   \n",
       "\n",
       "                                             標準ラベル（英語）  \\\n",
       "0                      Statement of financial position   \n",
       "1                      Statement of financial position   \n",
       "2                      Statement of financial position   \n",
       "3                                               Assets   \n",
       "4                                       Current assets   \n",
       "..                                                 ...   \n",
       "943  Other elements for components of finance incom...   \n",
       "944                       Components of finance income   \n",
       "945                       Components of finance income   \n",
       "946                        Components of finance costs   \n",
       "947                        Components of finance costs   \n",
       "\n",
       "                                             冗長ラベル（英語） 名前空間プレフィックス  \\\n",
       "0    Statement of financial position (IFRS) [abstract]   jpigp_cor   \n",
       "1       Statement of financial position (IFRS) [table]   jpigp_cor   \n",
       "2    Statement of financial position (IFRS) [line i...   jpigp_cor   \n",
       "3                             Assets (IFRS) [abstract]   jpigp_cor   \n",
       "4                     Current assets (IFRS) [abstract]   jpigp_cor   \n",
       "..                                                 ...         ...   \n",
       "943  Other elements for components of finance incom...   jpigp_cor   \n",
       "944        Components of finance income (IFRS) [table]   jpigp_cor   \n",
       "945   Components of finance income (IFRS) [line items]   jpigp_cor   \n",
       "946         Components of finance costs (IFRS) [table]   jpigp_cor   \n",
       "947    Components of finance costs (IFRS) [line items]   jpigp_cor   \n",
       "\n",
       "                                                   要素名  \\\n",
       "0             StatementOfFinancialPositionIFRSAbstract   \n",
       "1                StatementOfFinancialPositionIFRSTable   \n",
       "2            StatementOfFinancialPositionIFRSLineItems   \n",
       "3                                   AssetsIFRSAbstract   \n",
       "4                            CurrentAssetsIFRSAbstract   \n",
       "..                                                 ...   \n",
       "943  OtherElementsForComponentsOfFinanceIncomeAndFi...   \n",
       "944                 ComponentsOfFinanceIncomeIFRSTable   \n",
       "945             ComponentsOfFinanceIncomeIFRSLineItems   \n",
       "946                  ComponentsOfFinanceCostsIFRSTable   \n",
       "947              ComponentsOfFinanceCostsIFRSLineItems   \n",
       "\n",
       "                                                   tag  \n",
       "0    jpigp_corStatementOfFinancialPositionIFRSAbstract  \n",
       "1       jpigp_corStatementOfFinancialPositionIFRSTable  \n",
       "2    jpigp_corStatementOfFinancialPositionIFRSLineI...  \n",
       "3                          jpigp_corAssetsIFRSAbstract  \n",
       "4                   jpigp_corCurrentAssetsIFRSAbstract  \n",
       "..                                                 ...  \n",
       "943  jpigp_corOtherElementsForComponentsOfFinanceIn...  \n",
       "944        jpigp_corComponentsOfFinanceIncomeIFRSTable  \n",
       "945    jpigp_corComponentsOfFinanceIncomeIFRSLineItems  \n",
       "946         jpigp_corComponentsOfFinanceCostsIFRSTable  \n",
       "947     jpigp_corComponentsOfFinanceCostsIFRSLineItems  \n",
       "\n",
       "[885 rows x 6 columns]"
      ]
     },
     "execution_count": 204,
     "metadata": {},
     "output_type": "execute_result"
    }
   ],
   "source": [
    "use[use[\"tag\"].apply(lambda x: x[0]==\"j\")]"
   ]
  },
  {
   "cell_type": "code",
   "execution_count": 205,
   "metadata": {},
   "outputs": [
    {
     "data": {
      "text/html": [
       "<div>\n",
       "<style scoped>\n",
       "    .dataframe tbody tr th:only-of-type {\n",
       "        vertical-align: middle;\n",
       "    }\n",
       "\n",
       "    .dataframe tbody tr th {\n",
       "        vertical-align: top;\n",
       "    }\n",
       "\n",
       "    .dataframe thead th {\n",
       "        text-align: right;\n",
       "    }\n",
       "</style>\n",
       "<table border=\"1\" class=\"dataframe\">\n",
       "  <thead>\n",
       "    <tr style=\"text-align: right;\">\n",
       "      <th></th>\n",
       "      <th>冗長ラベル（日本語）</th>\n",
       "      <th>標準ラベル（英語）</th>\n",
       "      <th>冗長ラベル（英語）</th>\n",
       "      <th>名前空間プレフィックス</th>\n",
       "      <th>要素名</th>\n",
       "      <th>tag</th>\n",
       "    </tr>\n",
       "  </thead>\n",
       "  <tbody>\n",
       "    <tr>\n",
       "      <th>0</th>\n",
       "      <td>財政状態計算書（IFRS） [タイトル項目]</td>\n",
       "      <td>Statement of financial position</td>\n",
       "      <td>Statement of financial position (IFRS) [abstract]</td>\n",
       "      <td>jpigp_cor</td>\n",
       "      <td>StatementOfFinancialPositionIFRSAbstract</td>\n",
       "      <td>jpigp_corStatementOfFinancialPositionIFRSAbstract</td>\n",
       "    </tr>\n",
       "    <tr>\n",
       "      <th>1</th>\n",
       "      <td>財政状態計算書（IFRS） [表]</td>\n",
       "      <td>Statement of financial position</td>\n",
       "      <td>Statement of financial position (IFRS) [table]</td>\n",
       "      <td>jpigp_cor</td>\n",
       "      <td>StatementOfFinancialPositionIFRSTable</td>\n",
       "      <td>jpigp_corStatementOfFinancialPositionIFRSTable</td>\n",
       "    </tr>\n",
       "    <tr>\n",
       "      <th>2</th>\n",
       "      <td>財政状態計算書（IFRS） [表示項目]</td>\n",
       "      <td>Statement of financial position</td>\n",
       "      <td>Statement of financial position (IFRS) [line i...</td>\n",
       "      <td>jpigp_cor</td>\n",
       "      <td>StatementOfFinancialPositionIFRSLineItems</td>\n",
       "      <td>jpigp_corStatementOfFinancialPositionIFRSLineI...</td>\n",
       "    </tr>\n",
       "    <tr>\n",
       "      <th>3</th>\n",
       "      <td>資産（IFRS） [タイトル項目]</td>\n",
       "      <td>Assets</td>\n",
       "      <td>Assets (IFRS) [abstract]</td>\n",
       "      <td>jpigp_cor</td>\n",
       "      <td>AssetsIFRSAbstract</td>\n",
       "      <td>jpigp_corAssetsIFRSAbstract</td>\n",
       "    </tr>\n",
       "    <tr>\n",
       "      <th>4</th>\n",
       "      <td>流動資産（IFRS） [タイトル項目]</td>\n",
       "      <td>Current assets</td>\n",
       "      <td>Current assets (IFRS) [abstract]</td>\n",
       "      <td>jpigp_cor</td>\n",
       "      <td>CurrentAssetsIFRSAbstract</td>\n",
       "      <td>jpigp_corCurrentAssetsIFRSAbstract</td>\n",
       "    </tr>\n",
       "    <tr>\n",
       "      <th>...</th>\n",
       "      <td>...</td>\n",
       "      <td>...</td>\n",
       "      <td>...</td>\n",
       "      <td>...</td>\n",
       "      <td>...</td>\n",
       "      <td>...</td>\n",
       "    </tr>\n",
       "    <tr>\n",
       "      <th>943</th>\n",
       "      <td>金融収益及び金融費用の内訳のその他の要素（IFRS） [タイトル項目]</td>\n",
       "      <td>Other elements for components of finance incom...</td>\n",
       "      <td>Other elements for components of finance incom...</td>\n",
       "      <td>jpigp_cor</td>\n",
       "      <td>OtherElementsForComponentsOfFinanceIncomeAndFi...</td>\n",
       "      <td>jpigp_corOtherElementsForComponentsOfFinanceIn...</td>\n",
       "    </tr>\n",
       "    <tr>\n",
       "      <th>944</th>\n",
       "      <td>金融収益の内訳（IFRS） [表]</td>\n",
       "      <td>Components of finance income</td>\n",
       "      <td>Components of finance income (IFRS) [table]</td>\n",
       "      <td>jpigp_cor</td>\n",
       "      <td>ComponentsOfFinanceIncomeIFRSTable</td>\n",
       "      <td>jpigp_corComponentsOfFinanceIncomeIFRSTable</td>\n",
       "    </tr>\n",
       "    <tr>\n",
       "      <th>945</th>\n",
       "      <td>金融収益の内訳（IFRS） [表示項目]</td>\n",
       "      <td>Components of finance income</td>\n",
       "      <td>Components of finance income (IFRS) [line items]</td>\n",
       "      <td>jpigp_cor</td>\n",
       "      <td>ComponentsOfFinanceIncomeIFRSLineItems</td>\n",
       "      <td>jpigp_corComponentsOfFinanceIncomeIFRSLineItems</td>\n",
       "    </tr>\n",
       "    <tr>\n",
       "      <th>946</th>\n",
       "      <td>金融費用の内訳（IFRS） [表]</td>\n",
       "      <td>Components of finance costs</td>\n",
       "      <td>Components of finance costs (IFRS) [table]</td>\n",
       "      <td>jpigp_cor</td>\n",
       "      <td>ComponentsOfFinanceCostsIFRSTable</td>\n",
       "      <td>jpigp_corComponentsOfFinanceCostsIFRSTable</td>\n",
       "    </tr>\n",
       "    <tr>\n",
       "      <th>947</th>\n",
       "      <td>金融費用の内訳（IFRS） [表示項目]</td>\n",
       "      <td>Components of finance costs</td>\n",
       "      <td>Components of finance costs (IFRS) [line items]</td>\n",
       "      <td>jpigp_cor</td>\n",
       "      <td>ComponentsOfFinanceCostsIFRSLineItems</td>\n",
       "      <td>jpigp_corComponentsOfFinanceCostsIFRSLineItems</td>\n",
       "    </tr>\n",
       "  </tbody>\n",
       "</table>\n",
       "<p>948 rows × 6 columns</p>\n",
       "</div>"
      ],
      "text/plain": [
       "                              冗長ラベル（日本語）  \\\n",
       "0                 財政状態計算書（IFRS） [タイトル項目]   \n",
       "1                      財政状態計算書（IFRS） [表]   \n",
       "2                   財政状態計算書（IFRS） [表示項目]   \n",
       "3                      資産（IFRS） [タイトル項目]   \n",
       "4                    流動資産（IFRS） [タイトル項目]   \n",
       "..                                   ...   \n",
       "943  金融収益及び金融費用の内訳のその他の要素（IFRS） [タイトル項目]   \n",
       "944                    金融収益の内訳（IFRS） [表]   \n",
       "945                 金融収益の内訳（IFRS） [表示項目]   \n",
       "946                    金融費用の内訳（IFRS） [表]   \n",
       "947                 金融費用の内訳（IFRS） [表示項目]   \n",
       "\n",
       "                                             標準ラベル（英語）  \\\n",
       "0                      Statement of financial position   \n",
       "1                      Statement of financial position   \n",
       "2                      Statement of financial position   \n",
       "3                                               Assets   \n",
       "4                                       Current assets   \n",
       "..                                                 ...   \n",
       "943  Other elements for components of finance incom...   \n",
       "944                       Components of finance income   \n",
       "945                       Components of finance income   \n",
       "946                        Components of finance costs   \n",
       "947                        Components of finance costs   \n",
       "\n",
       "                                             冗長ラベル（英語） 名前空間プレフィックス  \\\n",
       "0    Statement of financial position (IFRS) [abstract]   jpigp_cor   \n",
       "1       Statement of financial position (IFRS) [table]   jpigp_cor   \n",
       "2    Statement of financial position (IFRS) [line i...   jpigp_cor   \n",
       "3                             Assets (IFRS) [abstract]   jpigp_cor   \n",
       "4                     Current assets (IFRS) [abstract]   jpigp_cor   \n",
       "..                                                 ...         ...   \n",
       "943  Other elements for components of finance incom...   jpigp_cor   \n",
       "944        Components of finance income (IFRS) [table]   jpigp_cor   \n",
       "945   Components of finance income (IFRS) [line items]   jpigp_cor   \n",
       "946         Components of finance costs (IFRS) [table]   jpigp_cor   \n",
       "947    Components of finance costs (IFRS) [line items]   jpigp_cor   \n",
       "\n",
       "                                                   要素名  \\\n",
       "0             StatementOfFinancialPositionIFRSAbstract   \n",
       "1                StatementOfFinancialPositionIFRSTable   \n",
       "2            StatementOfFinancialPositionIFRSLineItems   \n",
       "3                                   AssetsIFRSAbstract   \n",
       "4                            CurrentAssetsIFRSAbstract   \n",
       "..                                                 ...   \n",
       "943  OtherElementsForComponentsOfFinanceIncomeAndFi...   \n",
       "944                 ComponentsOfFinanceIncomeIFRSTable   \n",
       "945             ComponentsOfFinanceIncomeIFRSLineItems   \n",
       "946                  ComponentsOfFinanceCostsIFRSTable   \n",
       "947              ComponentsOfFinanceCostsIFRSLineItems   \n",
       "\n",
       "                                                   tag  \n",
       "0    jpigp_corStatementOfFinancialPositionIFRSAbstract  \n",
       "1       jpigp_corStatementOfFinancialPositionIFRSTable  \n",
       "2    jpigp_corStatementOfFinancialPositionIFRSLineI...  \n",
       "3                          jpigp_corAssetsIFRSAbstract  \n",
       "4                   jpigp_corCurrentAssetsIFRSAbstract  \n",
       "..                                                 ...  \n",
       "943  jpigp_corOtherElementsForComponentsOfFinanceIn...  \n",
       "944        jpigp_corComponentsOfFinanceIncomeIFRSTable  \n",
       "945    jpigp_corComponentsOfFinanceIncomeIFRSLineItems  \n",
       "946         jpigp_corComponentsOfFinanceCostsIFRSTable  \n",
       "947     jpigp_corComponentsOfFinanceCostsIFRSLineItems  \n",
       "\n",
       "[948 rows x 6 columns]"
      ]
     },
     "execution_count": 205,
     "metadata": {},
     "output_type": "execute_result"
    }
   ],
   "source": [
    "use"
   ]
  },
  {
   "cell_type": "code",
   "execution_count": null,
   "metadata": {},
   "outputs": [],
   "source": []
  }
 ],
 "metadata": {
  "kernelspec": {
   "display_name": "Python 3.7.7 ('base')",
   "language": "python",
   "name": "python3"
  },
  "language_info": {
   "codemirror_mode": {
    "name": "ipython",
    "version": 3
   },
   "file_extension": ".py",
   "mimetype": "text/x-python",
   "name": "python",
   "nbconvert_exporter": "python",
   "pygments_lexer": "ipython3",
   "version": "3.7.7"
  },
  "orig_nbformat": 4,
  "vscode": {
   "interpreter": {
    "hash": "86e4b57842a5211036472f9c1c09855ba856c5840f193d7b15b5b7ba596804e2"
   }
  }
 },
 "nbformat": 4,
 "nbformat_minor": 2
}
