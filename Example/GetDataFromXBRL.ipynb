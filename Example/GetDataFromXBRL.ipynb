{
 "cells": [
  {
   "cell_type": "code",
   "execution_count": 1,
   "metadata": {},
   "outputs": [],
   "source": [
    "import requests\n",
    "import glob\n",
    "import os\n",
    "from pathlib import Path\n",
    "import edinet\n",
    "from edinet.xbrl_file import XBRLDir\n",
    "import pandas as pd"
   ]
  },
  {
   "cell_type": "markdown",
   "metadata": {},
   "source": [
    "# Step0: データをダウンロードしてくる\n"
   ]
  },
  {
   "cell_type": "code",
   "execution_count": 5,
   "metadata": {},
   "outputs": [
    {
     "name": "stderr",
     "output_type": "stream",
     "text": [
      "/home/yuki/anaconda3/lib/python3.7/site-packages/urllib3/connectionpool.py:1020: InsecureRequestWarning: Unverified HTTPS request is being made to host 'disclosure.edinet-fsa.go.jp'. Adding certificate verification is strongly advised. See: https://urllib3.readthedocs.io/en/1.26.x/advanced-usage.html#ssl-warnings\n",
      "  InsecureRequestWarning,\n"
     ]
    }
   ],
   "source": [
    "DOC_ID = \"S100N4TI\"\n",
    "xbrl_path = edinet.api.document.get_xbrl(\n",
    "            DOC_ID, save_dir=\".\",\n",
    "            expand_level=\"dir\")"
   ]
  },
  {
   "cell_type": "markdown",
   "metadata": {},
   "source": [
    "# Step1: XBRLを読み込む\n",
    "XBRLDirsにダウンロードしてきたファイルのパスを登録する\n",
    "```python\n",
    "xbrl_dir = XBRLDir(\"./\"+DOC_ID)\n",
    "```\n"
   ]
  },
  {
   "cell_type": "code",
   "execution_count": 6,
   "metadata": {},
   "outputs": [],
   "source": [
    "xbrl_dir = XBRLDir(\"./\"+DOC_ID)"
   ]
  },
  {
   "cell_type": "markdown",
   "metadata": {},
   "source": [
    "# Step2: 利用可能なタクソノミ要素リストを確認する\n",
    "「DOCID/PublicDoc/」のディレクトリに入っているxbrlファイルのパスをpathに入力し、利用可能なタクソノミを確認する"
   ]
  },
  {
   "cell_type": "code",
   "execution_count": 7,
   "metadata": {},
   "outputs": [],
   "source": [
    "path = \"S100N4TI/XBRL/PublicDoc/jpcrp030000-asr-001_E33000-000_2021-09-30_01_2021-12-24.xbrl\"\n",
    "data = pd.read_csv(path,sep=\"\\n\",header=None)\n",
    "Tags = []\n",
    "for i in data[0].values:\n",
    "    i = i.split(\" \")\n",
    "    n = 0\n",
    "    dic = {}\n",
    "    N = len(i)\n",
    "    for j in i:\n",
    "        if len(j)==0:\n",
    "            continue\n",
    "        j = j.strip(\"<\")\n",
    "        if j[0]==\"j\":\n",
    "            Tags.append(j)\n",
    "        break\n",
    "    pass"
   ]
  },
  {
   "cell_type": "code",
   "execution_count": 8,
   "metadata": {},
   "outputs": [
    {
     "data": {
      "text/plain": [
       "0                         jpdei_cor:NumberOfSubmissionDEI\n",
       "1           jpcrp_cor:RevenueIFRSSummaryOfBusinessResults\n",
       "2           jpcrp_cor:RevenueIFRSSummaryOfBusinessResults\n",
       "3           jpcrp_cor:RevenueIFRSSummaryOfBusinessResults\n",
       "4           jpcrp_cor:RevenueIFRSSummaryOfBusinessResults\n",
       "                              ...                        \n",
       "1378    jpcrp_cor:OtherInformationFinancialStatementsE...\n",
       "1379    jpcrp_cor:OverviewOfOperationalProceduresForSh...\n",
       "1380    jpcrp_cor:InformationAboutParentCompanyEtcOfRe...\n",
       "1381         jpcrp_cor:OtherReferenceInformationTextBlock\n",
       "1382    jpcrp_cor:InformationAboutCompanyWhichProvides...\n",
       "Length: 1383, dtype: object"
      ]
     },
     "execution_count": 8,
     "metadata": {},
     "output_type": "execute_result"
    }
   ],
   "source": [
    "pd.Series(Tags)"
   ]
  },
  {
   "cell_type": "markdown",
   "metadata": {},
   "source": [
    "# Step3: 必要なデータを抽出する\n",
    "\n",
    "## 取得年度のデータを取得する場合:\n",
    "xbrl_dis.xbrl.find(取得したいタクソノミ)を入力し、データを取得する\n"
   ]
  },
  {
   "cell_type": "code",
   "execution_count": 11,
   "metadata": {},
   "outputs": [
    {
     "data": {
      "text/plain": [
       "'23000000'"
      ]
     },
     "execution_count": 11,
     "metadata": {},
     "output_type": "execute_result"
    }
   ],
   "source": [
    "# 例: 補助金収入を確認する\n",
    "xbrl_dir.xbrl.find(\"jpcrp_cor:AuditFeesConsolidatedSubsidiaries\").text"
   ]
  },
  {
   "cell_type": "markdown",
   "metadata": {},
   "source": [
    "## 取得可能年度のすべてのデータを取得する場合:\n",
    "xbrl_dis.xbrl.find_all(取得したいタクソノミ)を入力し、データを取得する\n"
   ]
  },
  {
   "cell_type": "code",
   "execution_count": 14,
   "metadata": {},
   "outputs": [
    {
     "name": "stdout",
     "output_type": "stream",
     "text": [
      "Prior1YearDuration 23000000\n",
      "CurrentYearDuration 23000000\n"
     ]
    }
   ],
   "source": [
    "for i in xbrl_dir.xbrl.find_all(\"jpcrp_cor:AuditFeesConsolidatedSubsidiaries\"):\n",
    "    print(i._element[\"contextRef\"], i.text)"
   ]
  },
  {
   "cell_type": "code",
   "execution_count": null,
   "metadata": {},
   "outputs": [],
   "source": []
  }
 ],
 "metadata": {
  "kernelspec": {
   "display_name": "Python 3.7.7 ('base')",
   "language": "python",
   "name": "python3"
  },
  "language_info": {
   "codemirror_mode": {
    "name": "ipython",
    "version": 3
   },
   "file_extension": ".py",
   "mimetype": "text/x-python",
   "name": "python",
   "nbconvert_exporter": "python",
   "pygments_lexer": "ipython3",
   "version": "3.7.7"
  },
  "orig_nbformat": 4,
  "vscode": {
   "interpreter": {
    "hash": "86e4b57842a5211036472f9c1c09855ba856c5840f193d7b15b5b7ba596804e2"
   }
  }
 },
 "nbformat": 4,
 "nbformat_minor": 2
}
