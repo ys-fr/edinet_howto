{
 "cells": [
  {
   "cell_type": "code",
   "execution_count": 120,
   "metadata": {},
   "outputs": [],
   "source": [
    "import pandas as pd\n",
    "import datetime\n",
    "import requests"
   ]
  },
  {
   "cell_type": "code",
   "execution_count": 121,
   "metadata": {},
   "outputs": [],
   "source": [
    "# 最大で現在から3年前までのデータを入手することが出来る\n",
    "# startには、ほしいデータの始点（最大3年前の日付）\n",
    "# endには　、ほしいデータの終点（現在まで入力可能）\n",
    "start = datetime.date(2017, 9,28);end = datetime.date(2022, 9,30)\n",
    "Day = []\n",
    "dt = datetime.timedelta(days=1)\n",
    "for d in range((end-start).days+1):\n",
    "    start += dt\n",
    "    Day.append(start)\n",
    "    pass"
   ]
  },
  {
   "cell_type": "code",
   "execution_count": 122,
   "metadata": {},
   "outputs": [],
   "source": [
    "avail_docs =[]\n",
    "tmp = []\n",
    "# data structure\n",
    "# 0: date, 1: company name, 2: doc name\n",
    "# 1:Date, 2:Company, 3:CompanyID, 4:ordinanceCode, 5:formCode\n",
    "# 6:docTypeCode, 7:docID, 8:AvailableData_StartPeriod, 9: AvailableData_EndPeriod, 10:Available:xbrl, 11: Available:pdfFlag\n",
    "\n",
    "for day in Day:\n",
    "    respon = requests.get(\"https://disclosure.edinet-fsa.go.jp/api/v1/documents.json\", params= {\"date\": day, \"type\": 2}).json()\n",
    "    if respon[\"metadata\"][\"status\"]!=\"404\":\n",
    "        for res in respon[\"results\"]:\n",
    "            tmp = res\n",
    "            ordinance_code= res[\"ordinanceCode\"]\n",
    "            form_code= res[\"formCode\"]\n",
    "            avail_docs.append([ day, res[\"filerName\"] ,res[\"secCode\"], \n",
    "                               res[\"ordinanceCode\"],  res[\"formCode\"],  res[\"docTypeCode\"] ,res[\"docID\"],\n",
    "                               res[\"periodStart\"],res[\"periodEnd\"],\n",
    "                               res[\"xbrlFlag\"],res[\"pdfFlag\"],\n",
    "                               ].copy()\n",
    "                              )\n",
    "            pass\n",
    "        pass\n",
    "    pass\n"
   ]
  },
  {
   "cell_type": "code",
   "execution_count": 125,
   "metadata": {},
   "outputs": [],
   "source": [
    "# 現在入手可能なデータの種類とその情報をCSVに書き出す\n",
    "avail_docs = pd.DataFrame(avail_docs)\n",
    "avail_docs.columns = [\"Date\", \"Company\", \"CompanyID\", \n",
    "                      \"ordinanceCode\", \"formCode\", \"docTypeCode\", \"docID\",\n",
    "                      \"AvailableData_StartPeriod\",\"AvailableData_EndPeriod\",\"Available:xbrl\",\"Available:pdfFlag\"]\n",
    "# \n",
    "avail_docs.to_csv(\"AvailableData.csv\",index=None)\n"
   ]
  },
  {
   "cell_type": "code",
   "execution_count": 124,
   "metadata": {},
   "outputs": [],
   "source": [
    "avail_docs.to_csv(\"AvailableData.csv\",index=None)"
   ]
  }
 ],
 "metadata": {
  "kernelspec": {
   "display_name": "Python 3.8.10 64-bit",
   "language": "python",
   "name": "python3"
  },
  "language_info": {
   "codemirror_mode": {
    "name": "ipython",
    "version": 3
   },
   "file_extension": ".py",
   "mimetype": "text/x-python",
   "name": "python",
   "nbconvert_exporter": "python",
   "pygments_lexer": "ipython3",
   "version": "3.8.10"
  },
  "orig_nbformat": 4,
  "vscode": {
   "interpreter": {
    "hash": "916dbcbb3f70747c44a77c7bcd40155683ae19c65e1c03b4aa3499c5328201f1"
   }
  }
 },
 "nbformat": 4,
 "nbformat_minor": 2
}
