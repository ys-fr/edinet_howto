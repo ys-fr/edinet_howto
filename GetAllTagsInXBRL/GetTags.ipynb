{
 "cells": [
  {
   "cell_type": "code",
   "execution_count": 1,
   "metadata": {},
   "outputs": [],
   "source": [
    "import requests\n",
    "import glob\n",
    "import os\n",
    "from pathlib import Path\n",
    "import edinet\n",
    "from edinet.xbrl_file import XBRLDir\n",
    "import pandas as pd"
   ]
  },
  {
   "cell_type": "code",
   "execution_count": 2,
   "metadata": {},
   "outputs": [],
   "source": [
    "data = pd.read_csv(\"/mnt/yuki/OpenDocs/EDINET/S100M509/XBRL/PublicDoc/jpcrp040300-q3r-001_E33000-000_2021-06-30_01_2021-08-11.xbrl\",sep=\"\\n\",header=None)"
   ]
  },
  {
   "cell_type": "code",
   "execution_count": 3,
   "metadata": {},
   "outputs": [],
   "source": [
    "Tags = []\n",
    "for i in data[0].values:\n",
    "    i = i.split(\" \")\n",
    "    n = 0\n",
    "    dic = {}\n",
    "    N = len(i)\n",
    "    for j in i:\n",
    "        if len(j)==0:\n",
    "            continue\n",
    "        j = j.strip(\"<\")\n",
    "        if j[0]==\"j\":\n",
    "            Tags.append(j)\n",
    "        break\n",
    "    pass"
   ]
  },
  {
   "cell_type": "code",
   "execution_count": 6,
   "metadata": {},
   "outputs": [
    {
     "data": {
      "text/plain": [
       "'156402000000'"
      ]
     },
     "execution_count": 6,
     "metadata": {},
     "output_type": "execute_result"
    }
   ],
   "source": [
    "#Download data\n",
    "DOC_ID = \"S100N4TI\"\n",
    "#xbrl_path = edinet.api.document.get_xbrl(\n",
    "#    DOC_ID, save_dir=\"./\",\n",
    "#    expand_level=\"dir\")\n",
    "xbrl_dir = XBRLDir(\"../S100N4TI\")\n"
   ]
  },
  {
   "cell_type": "code",
   "execution_count": 14,
   "metadata": {},
   "outputs": [
    {
     "data": {
      "text/plain": [
       "<jpcrp_cor:RevenueIFRSSummaryOfBusinessResults contextRef=\"Prior4YearDuration\" decimals=\"-6\" unitRef=\"JPY\">156402000000</jpcrp_cor:RevenueIFRSSummaryOfBusinessResults>"
      ]
     },
     "execution_count": 14,
     "metadata": {},
     "output_type": "execute_result"
    }
   ],
   "source": [
    "xbrl_dir.xbrl.find_all(Tags[2])[0]._element#.text"
   ]
  },
  {
   "cell_type": "code",
   "execution_count": null,
   "metadata": {},
   "outputs": [],
   "source": []
  }
 ],
 "metadata": {
  "kernelspec": {
   "display_name": "Python 3.7.7 ('base')",
   "language": "python",
   "name": "python3"
  },
  "language_info": {
   "codemirror_mode": {
    "name": "ipython",
    "version": 3
   },
   "file_extension": ".py",
   "mimetype": "text/x-python",
   "name": "python",
   "nbconvert_exporter": "python",
   "pygments_lexer": "ipython3",
   "version": "3.7.7"
  },
  "orig_nbformat": 4,
  "vscode": {
   "interpreter": {
    "hash": "86e4b57842a5211036472f9c1c09855ba856c5840f193d7b15b5b7ba596804e2"
   }
  }
 },
 "nbformat": 4,
 "nbformat_minor": 2
}
