{
 "cells": [
  {
   "cell_type": "code",
   "execution_count": 1,
   "metadata": {},
   "outputs": [],
   "source": [
    "import requests\n",
    "import glob\n",
    "import os\n",
    "from pathlib import Path\n",
    "import edinet\n",
    "from edinet.xbrl_file import XBRLDir\n",
    "import pandas as pd"
   ]
  },
  {
   "cell_type": "code",
   "execution_count": 2,
   "metadata": {},
   "outputs": [],
   "source": [
    "# \"***\"にXBRLファイルまでのパスを入力してください\n",
    "path = \"***\"\n",
    "data = pd.read_csv(path,sep=\"\\n\",header=None)"
   ]
  },
  {
   "cell_type": "code",
   "execution_count": 3,
   "metadata": {},
   "outputs": [],
   "source": [
    "# 利用可能なタクソノミ名をTagsに記述する:\n",
    "Tags = []\n",
    "for i in data[0].values:\n",
    "    i = i.split(\" \")\n",
    "    n = 0\n",
    "    dic = {}\n",
    "    N = len(i)\n",
    "    for j in i:\n",
    "        if len(j)==0:\n",
    "            continue\n",
    "        j = j.strip(\"<\")\n",
    "        if j[0]==\"j\":\n",
    "            Tags.append(j)\n",
    "        break\n",
    "    pass"
   ]
  },
  {
   "cell_type": "code",
   "execution_count": null,
   "metadata": {},
   "outputs": [],
   "source": [
    "# TagsをCSVに書き出す\n",
    "# ***.csvは好きなパスを入力してください\n",
    "pd.DataFrame(Tags).to_csv(\"***.csv\",header=None,index=None)"
   ]
  }
 ],
 "metadata": {
  "kernelspec": {
   "display_name": "Python 3.7.7 ('base')",
   "language": "python",
   "name": "python3"
  },
  "language_info": {
   "codemirror_mode": {
    "name": "ipython",
    "version": 3
   },
   "file_extension": ".py",
   "mimetype": "text/x-python",
   "name": "python",
   "nbconvert_exporter": "python",
   "pygments_lexer": "ipython3",
   "version": "3.7.7"
  },
  "orig_nbformat": 4,
  "vscode": {
   "interpreter": {
    "hash": "86e4b57842a5211036472f9c1c09855ba856c5840f193d7b15b5b7ba596804e2"
   }
  }
 },
 "nbformat": 4,
 "nbformat_minor": 2
}
