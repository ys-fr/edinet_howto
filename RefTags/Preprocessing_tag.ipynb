{
 "cells": [
  {
   "cell_type": "code",
   "execution_count": 1,
   "metadata": {},
   "outputs": [],
   "source": [
    "import requests\n",
    "import glob\n",
    "import os\n",
    "from pathlib import Path\n",
    "import edinet\n",
    "from edinet.xbrl_file import XBRLDir\n",
    "import pandas as pd"
   ]
  },
  {
   "cell_type": "code",
   "execution_count": 2,
   "metadata": {},
   "outputs": [],
   "source": [
    "names = pd.read_excel(\"./OriginalFile/1g_IFRS_ElementList.xls\",sheet_name=\"詳細ツリー\",header=1)"
   ]
  },
  {
   "cell_type": "code",
   "execution_count": 7,
   "metadata": {},
   "outputs": [
    {
     "name": "stderr",
     "output_type": "stream",
     "text": [
      "/home/yuki/anaconda3/lib/python3.7/site-packages/ipykernel_launcher.py:2: SettingWithCopyWarning: \n",
      "A value is trying to be set on a copy of a slice from a DataFrame.\n",
      "Try using .loc[row_indexer,col_indexer] = value instead\n",
      "\n",
      "See the caveats in the documentation: https://pandas.pydata.org/pandas-docs/stable/user_guide/indexing.html#returning-a-view-versus-a-copy\n",
      "  \n",
      "/home/yuki/anaconda3/lib/python3.7/site-packages/ipykernel_launcher.py:3: SettingWithCopyWarning: \n",
      "A value is trying to be set on a copy of a slice from a DataFrame.\n",
      "Try using .loc[row_indexer,col_indexer] = value instead\n",
      "\n",
      "See the caveats in the documentation: https://pandas.pydata.org/pandas-docs/stable/user_guide/indexing.html#returning-a-view-versus-a-copy\n",
      "  This is separate from the ipykernel package so we can avoid doing imports until\n"
     ]
    }
   ],
   "source": [
    "use = names[[\"冗長ラベル（日本語）\",\"標準ラベル（英語）\", \"冗長ラベル（英語）\",\"名前空間プレフィックス\",\"要素名\"]]\n",
    "use[\"tag\"] = use[\"名前空間プレフィックス\"]+\":\"+use[\"要素名\"]\n",
    "use[\"tag\"]=use[\"tag\"].astype(\"str\",)\n",
    "#use[use[\"tag\"].apply(lambda x: x[0]==\"j\")]"
   ]
  },
  {
   "cell_type": "code",
   "execution_count": 8,
   "metadata": {},
   "outputs": [],
   "source": [
    "use = use[[\"tag\",'冗長ラベル（日本語）', '標準ラベル（英語）', '冗長ラベル（英語）']]\n",
    "use.columns = [\"タクソノミ\",'冗長ラベル（日本語）', '標準ラベル（英語）', '冗長ラベル（英語）']\n",
    "use.to_csv(\"./TagList/IFRS_TagList.csv\")"
   ]
  },
  {
   "cell_type": "code",
   "execution_count": 29,
   "metadata": {},
   "outputs": [
    {
     "name": "stderr",
     "output_type": "stream",
     "text": [
      "/home/yuki/anaconda3/lib/python3.7/site-packages/ipykernel_launcher.py:5: SettingWithCopyWarning: \n",
      "A value is trying to be set on a copy of a slice from a DataFrame.\n",
      "Try using .loc[row_indexer,col_indexer] = value instead\n",
      "\n",
      "See the caveats in the documentation: https://pandas.pydata.org/pandas-docs/stable/user_guide/indexing.html#returning-a-view-versus-a-copy\n",
      "  \"\"\"\n",
      "/home/yuki/anaconda3/lib/python3.7/site-packages/ipykernel_launcher.py:6: SettingWithCopyWarning: \n",
      "A value is trying to be set on a copy of a slice from a DataFrame.\n",
      "Try using .loc[row_indexer,col_indexer] = value instead\n",
      "\n",
      "See the caveats in the documentation: https://pandas.pydata.org/pandas-docs/stable/user_guide/indexing.html#returning-a-view-versus-a-copy\n",
      "  \n"
     ]
    }
   ],
   "source": [
    "save = []\n",
    "for i in range(1,69,1):\n",
    "    names = pd.read_excel(\"./OriginalFile/1e_ElementList.xlsx\",sheet_name=str(i),header=1)\n",
    "    use = names[[\"冗長ラベル（日本語）\",\"標準ラベル（英語）\", \"冗長ラベル（英語）\",\"名前空間プレフィックス\",\"要素名\"]]\n",
    "    use[\"tag\"] = use[\"名前空間プレフィックス\"]+\":\"+use[\"要素名\"]\n",
    "    use[\"tag\"]=use[\"tag\"].astype(\"str\",)\n",
    "    use[use[\"tag\"].apply(lambda x: x[0]==\"j\")]\n",
    "    save.extend(use.values.tolist().copy())"
   ]
  },
  {
   "cell_type": "code",
   "execution_count": 30,
   "metadata": {},
   "outputs": [],
   "source": [
    "use = pd.DataFrame(save)\n",
    "use = use[[5,0,1,2]]\n",
    "use.columns = [\"タクソノミ\",'冗長ラベル（日本語）', '標準ラベル（英語）', '冗長ラベル（英語）']\n",
    "use.to_csv(\"./TagList/AllElement.csv\",index=None)"
   ]
  },
  {
   "cell_type": "code",
   "execution_count": 32,
   "metadata": {},
   "outputs": [
    {
     "name": "stderr",
     "output_type": "stream",
     "text": [
      "/home/yuki/anaconda3/lib/python3.7/site-packages/ipykernel_launcher.py:7: SettingWithCopyWarning: \n",
      "A value is trying to be set on a copy of a slice from a DataFrame.\n",
      "Try using .loc[row_indexer,col_indexer] = value instead\n",
      "\n",
      "See the caveats in the documentation: https://pandas.pydata.org/pandas-docs/stable/user_guide/indexing.html#returning-a-view-versus-a-copy\n",
      "  import sys\n",
      "/home/yuki/anaconda3/lib/python3.7/site-packages/ipykernel_launcher.py:8: SettingWithCopyWarning: \n",
      "A value is trying to be set on a copy of a slice from a DataFrame.\n",
      "Try using .loc[row_indexer,col_indexer] = value instead\n",
      "\n",
      "See the caveats in the documentation: https://pandas.pydata.org/pandas-docs/stable/user_guide/indexing.html#returning-a-view-versus-a-copy\n",
      "  \n"
     ]
    }
   ],
   "source": [
    "sheetnames = pd.ExcelFile(\"./OriginalFile/1f_AccountList.xls\").sheet_names[2:]\n",
    "\n",
    "for I in sheetnames:\n",
    "    save = []\n",
    "    names = pd.read_excel(\"./OriginalFile/1f_AccountList.xls\",sheet_name=I,header=1)\n",
    "    use = names[[\"冗長ラベル（日本語）\",\"標準ラベル（英語）\", \"冗長ラベル（英語）\",\"名前空間プレフィックス\",\"要素名\"]]\n",
    "    use[\"tag\"] = use[\"名前空間プレフィックス\"]+\":\"+use[\"要素名\"]\n",
    "    use[\"tag\"]=use[\"tag\"].astype(\"str\",)\n",
    "    use[use[\"tag\"].apply(lambda x: x[0]==\"j\")]\n",
    "    save.extend(use.values.tolist().copy())\n",
    "    use = pd.DataFrame(save)\n",
    "    use = use[[5,0,1,2]]\n",
    "    use.columns = [\"タクソノミ\",'冗長ラベル（日本語）', '標準ラベル（英語）', '冗長ラベル（英語）']\n",
    "    use.to_csv(\"./TagList/{}.csv\".format(I))"
   ]
  },
  {
   "cell_type": "code",
   "execution_count": null,
   "metadata": {},
   "outputs": [],
   "source": []
  }
 ],
 "metadata": {
  "kernelspec": {
   "display_name": "Python 3.7.7 ('base')",
   "language": "python",
   "name": "python3"
  },
  "language_info": {
   "codemirror_mode": {
    "name": "ipython",
    "version": 3
   },
   "file_extension": ".py",
   "mimetype": "text/x-python",
   "name": "python",
   "nbconvert_exporter": "python",
   "pygments_lexer": "ipython3",
   "version": "3.7.7"
  },
  "orig_nbformat": 4,
  "vscode": {
   "interpreter": {
    "hash": "86e4b57842a5211036472f9c1c09855ba856c5840f193d7b15b5b7ba596804e2"
   }
  }
 },
 "nbformat": 4,
 "nbformat_minor": 2
}
