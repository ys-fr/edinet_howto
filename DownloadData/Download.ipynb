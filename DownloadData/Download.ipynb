{
 "cells": [
  {
   "cell_type": "code",
   "execution_count": null,
   "metadata": {},
   "outputs": [],
   "source": [
    "import requests\n",
    "import glob\n",
    "import os\n",
    "from pathlib import Path\n",
    "import edinet\n",
    "from edinet.xbrl_file import XBRLDir\n",
    "import pandas as pd"
   ]
  },
  {
   "cell_type": "code",
   "execution_count": null,
   "metadata": {},
   "outputs": [],
   "source": [
    "# ダウンロードしたいデータをCheckDocID/AvailableData.csvから選択する\n",
    "# そのデータのdocIDをDOCIDに入力する\n",
    "DOC_ID = \"***\"\n",
    "# 取得したファイルの展開先のパスをpathに入力する\n",
    "path = \"***\"\n",
    "xbrl_path = edinet.api.document.get_xbrl(\n",
    "            DOC_ID, save_dir=path,\n",
    "            expand_level=\"dir\")\n",
    "xbrl_dir = XBRLDir(path +\"/\" + DOC_ID)\n"
   ]
  }
 ],
 "metadata": {
  "kernelspec": {
   "display_name": "Python 3.7.7 ('base')",
   "language": "python",
   "name": "python3"
  },
  "language_info": {
   "name": "python",
   "version": "3.7.7"
  },
  "orig_nbformat": 4,
  "vscode": {
   "interpreter": {
    "hash": "86e4b57842a5211036472f9c1c09855ba856c5840f193d7b15b5b7ba596804e2"
   }
  }
 },
 "nbformat": 4,
 "nbformat_minor": 2
}
