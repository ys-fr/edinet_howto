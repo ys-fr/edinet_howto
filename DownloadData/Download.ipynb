{
 "cells": [
  {
   "cell_type": "code",
   "execution_count": null,
   "metadata": {},
   "outputs": [],
   "source": [
    "import requests\n",
    "import glob\n",
    "import os\n",
    "from pathlib import Path\n",
    "import edinet\n",
    "from edinet.xbrl_file import XBRLDir\n",
    "import pandas as pd"
   ]
  },
  {
   "cell_type": "code",
   "execution_count": null,
   "metadata": {},
   "outputs": [],
   "source": [
    "# ダウンロードしたいデータをCheckDocID/AvailableData.csvから選択する\n",
    "# そのデータのdocIDをDOCIDに入力する\n",
    "DOCID = \"***\"\n",
    "xbrl_path = edinet.api.document.get_xbrl(\n",
    "            DOC_ID, save_dir=\"./data\",\n",
    "            expand_level=\"dir\")\n",
    "xbrl_dir = XBRLDir(\"./data/\" + DOC_ID)\n"
   ]
  }
 ],
 "metadata": {
  "kernelspec": {
   "display_name": "Python 3.8.10 64-bit",
   "language": "python",
   "name": "python3"
  },
  "language_info": {
   "name": "python",
   "version": "3.8.10"
  },
  "orig_nbformat": 4,
  "vscode": {
   "interpreter": {
    "hash": "916dbcbb3f70747c44a77c7bcd40155683ae19c65e1c03b4aa3499c5328201f1"
   }
  }
 },
 "nbformat": 4,
 "nbformat_minor": 2
}
